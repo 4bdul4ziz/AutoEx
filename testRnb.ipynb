{
 "cells": [
  {
   "cell_type": "code",
   "execution_count": null,
   "metadata": {
    "vscode": {
     "languageId": "r"
    }
   },
   "outputs": [],
   "source": [
    "library(MASS)"
   ]
  },
  {
   "cell_type": "code",
   "execution_count": null,
   "metadata": {
    "vscode": {
     "languageId": "r"
    }
   },
   "outputs": [],
   "source": [
    "# Use the newsurvey data obtained by cleaning ‘na’ values in survey data of MASS package to do the following:\n",
    "\n",
    "#1.     Find the range of students’ age participated in the survey.\n",
    "\n",
    "#2.     Break the age range into non-overlapping sub-intervals by defining a sequence of equal distance break points of 10 by rounding the range to nearest integer.\n",
    "\n",
    "#3.     Find the distribution of the age range according to the sub-intervals with cut with its right boundary opened. Display it in column form.\n",
    "\n",
    "#4.     Which age range of students has mostly participated in the survey.\n",
    "\n",
    "#5.     Similarly, find the frequency distribution of Wr.Hnd span and display it in column format.\n",
    "\n",
    "#6.     Find the relative frequency of Wr.Hnd and display it by correcting to 3 decimal places.\n",
    "\n",
    "#7.     Find the average age of the students participated in the survey.\n",
    "\n",
    "#8.     Compute the standard deviation and variance of the height of the students participated in the survey.\n",
    "\n",
    "#9.     Compute the quartile of wirte hand span.\n",
    "\n",
    "#10.     Find the correlation between write hand span and pulse rate of the students.\n",
    "\n",
    "#11.     Find the average age of the students based on how often the student exercises.\n",
    "\n",
    "# 12.     make different categories of span of NW.Hnd and find SD of height of the students in each category\n",
    "\n",
    "#13.     Obtain the summary statistics of pulse rate of the students."
   ]
  },
  {
   "cell_type": "code",
   "execution_count": null,
   "metadata": {
    "vscode": {
     "languageId": "r"
    }
   },
   "outputs": [],
   "source": [
    "# 1\n",
    "range(new$Age)\n",
    "\n",
    "# 2 Break the age of range into non-overlapping sub-intervals by defining a sequence of equal distance break points of 10 by rounding the range to nearest integer.\n",
    "\n",
    "seq(18, 60, 10)\n",
    "\n",
    "# 3 Find the distribution of the age range according to the sub-intervals with cut with its right boundary opened. Display it in column form.\n",
    "\n",
    "table(cut(new$Age, seq(17, 70, 10), right = FALSE))\n",
    "\n",
    "# 4 Which age range of students has mostly participated in the survey.\n",
    "\n",
    "table(cut(new$Age, seq(17, 70, 10), right = FALSE))[1]\n",
    "\n",
    "# 5 Similarly, find the frequency distribution of Wr.Hnd span and display it in column format.\n",
    "\n",
    "table(cut(new$Wr.Hnd, seq(0, 100, 10), right = FALSE))\n",
    "\n",
    "# 6 Find the relative frequency of Wr.Hnd and display it by correcting to 3 decimal places.\n",
    "\n",
    "table(cut(new$Wr.Hnd, seq(0, 100, 10), right = FALSE)) / nrow(new)\n",
    "\n",
    "# 7 Find the average age of the students participated in the survey.\n",
    "\n",
    "mean(new$Age)\n",
    "\n",
    "# 8 Compute the standard deviation and variance of the height of the students participated in the survey.\n",
    "\n",
    "sd(new$Height)\n",
    "var(new$Height)\n",
    "\n",
    "# 9 Compute the quartile of wirte hand span.\n",
    "\n",
    "quantile(new$Wr.Hnd)\n",
    "\n",
    "# 10 Find the correlation between write hand span and pulse rate of the students.\n",
    "\n",
    "cor(new$Wr.Hnd, new$Pulse)\n",
    "\n",
    "# 11 Find the average age of the students based on how often the student exercises.\n",
    "\n",
    "aggregate(new$Age, by = list(new$Exer), FUN = mean)\n",
    "\n",
    "# 12 make different categories of span of NW.Hnd and find SD of height of the students in each category\n",
    "\n",
    "aggregate(new$Height, by = list(cut(new$NW.Hnd, seq(0, 100, 10), right = FALSE)), FUN = sd)\n",
    "\n",
    "\n",
    "\n",
    "\n",
    "\n",
    "\n",
    "\n",
    "\n",
    "\n",
    "\n",
    "\n",
    "\n",
    "\n",
    "\n",
    "# 13 Obtain the summary statistics of pulse rate of the students.\n",
    "\n",
    "summary(new$Pulse)\n"
   ]
  }
 ],
 "metadata": {
  "kernelspec": {
   "display_name": "R",
   "language": "R",
   "name": "ir"
  },
  "language_info": {
   "name": "R"
  },
  "orig_nbformat": 4
 },
 "nbformat": 4,
 "nbformat_minor": 2
}
